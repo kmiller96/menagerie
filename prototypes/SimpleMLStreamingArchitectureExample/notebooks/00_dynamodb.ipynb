{
 "nbformat": 4,
 "nbformat_minor": 2,
 "metadata": {
  "language_info": {
   "name": "python",
   "codemirror_mode": {
    "name": "ipython",
    "version": 3
   },
   "version": "3.7.4-final"
  },
  "orig_nbformat": 2,
  "file_extension": ".py",
  "mimetype": "text/x-python",
  "name": "python",
  "npconvert_exporter": "python",
  "pygments_lexer": "ipython3",
  "version": 3,
  "kernelspec": {
   "name": "python37464bitrealtimewineconda433b56d80c6b48e5be26d17b3e0b23d0",
   "display_name": "Python 3.7.4 64-bit ('real-time-wine': conda)"
  }
 },
 "cells": [
  {
   "cell_type": "markdown",
   "metadata": {},
   "source": [
    "# DyanmoDB"
   ],
   "execution_count": null,
   "outputs": []
  },
  {
   "cell_type": "markdown",
   "metadata": {},
   "source": [
    "We will be using DynamoDB as our data storage service, so we want to get an idea as to how the messages are formatted. \n",
    "\n",
    "Note that this notebook will only work if you've deployed the infrastructure (`make infrastructure`) and you've filled the DynamoDB database with some sample data (`make database`)"
   ],
   "execution_count": null,
   "outputs": []
  },
  {
   "cell_type": "code",
   "execution_count": 1,
   "metadata": {},
   "outputs": [],
   "source": [
    "import boto3"
   ]
  },
  {
   "cell_type": "code",
   "execution_count": 2,
   "metadata": {},
   "outputs": [],
   "source": [
    "table_name = \"real-time-wine-vat-data\"\n",
    "\n",
    "dynamodb = boto3.client(\"dynamodb\")"
   ]
  },
  {
   "cell_type": "markdown",
   "metadata": {},
   "source": [
    "## Reading Values From DynamoDB"
   ],
   "execution_count": null,
   "outputs": []
  },
  {
   "cell_type": "markdown",
   "metadata": {},
   "source": [
    "Let's start by reading some rows of our DynamoDB table."
   ],
   "execution_count": null,
   "outputs": []
  },
  {
   "cell_type": "code",
   "execution_count": 3,
   "metadata": {},
   "outputs": [
    {
     "output_type": "execute_result",
     "data": {
      "text/plain": "{'Items': [{'vatID': {'S': '15198982963524164884'},\n   'total sulfur dioxide': {'S': '114.0'},\n   'fixed acidity': {'S': '6.0'},\n   'free sulfur dioxide': {'S': '30.0'},\n   'citric acid': {'S': '0.25'},\n   'residual sugar': {'S': '1.4'},\n   'density': {'S': '0.9879399999999999'},\n   'chlorides': {'S': '0.033'},\n   'quality': {'S': '6'},\n   'sulphates': {'S': '0.43'},\n   'pH': {'S': '3.08'},\n   'alcohol': {'S': '13.2'},\n   'volatile acidity': {'S': '0.29'}},\n  {'vatID': {'S': '4180717743338161316'},\n   'total sulfur dioxide': {'S': '107.0'},\n   'fixed acidity': {'S': '7.5'},\n   'free sulfur dioxide': {'S': '35.0'},\n   'citric acid': {'S': '0.29'},\n   'residual sugar': {'S': '1.5'},\n   'density': {'S': '0.9912299999999999'},\n   'chlorides': {'S': '0.046'},\n   'quality': {'S': '6'},\n   'sulphates': {'S': '0.45'},\n   'pH': {'S': '3.15'},\n   'alcohol': {'S': '11.3'},\n   'volatile acidity': {'S': '0.21'}},\n  {'vatID': {'S': '337330158865080962'},\n   'total sulfur dioxide': {'S': '153.0'},\n   'fixed acidity': {'S': '6.8'},\n   'free sulfur dioxide': {'S': '38.0'},\n   'citric acid': {'S': '0.35'},\n   'residual sugar': {'S': '17.5'},\n   'density': {'S': '0.9994'},\n   'chlorides': {'S': '0.039'},\n   'quality': {'S': '6'},\n   'sulphates': {'S': '0.42'},\n   'pH': {'S': '3.24'},\n   'alcohol': {'S': '9.0'},\n   'volatile acidity': {'S': '0.22'}}],\n 'Count': 3,\n 'ScannedCount': 3,\n 'LastEvaluatedKey': {'vatID': {'S': '337330158865080962'}},\n 'ResponseMetadata': {'RequestId': '0Q3I6Q1JB91JI1JVNOPV0KR79BVV4KQNSO5AEMVJF66Q9ASUAAJG',\n  'HTTPStatusCode': 200,\n  'HTTPHeaders': {'server': 'Server',\n   'date': 'Tue, 14 Apr 2020 02:06:28 GMT',\n   'content-type': 'application/x-amz-json-1.0',\n   'content-length': '1207',\n   'connection': 'keep-alive',\n   'x-amzn-requestid': '0Q3I6Q1JB91JI1JVNOPV0KR79BVV4KQNSO5AEMVJF66Q9ASUAAJG',\n   'x-amz-crc32': '1835011629'},\n  'RetryAttempts': 0}}"
     },
     "metadata": {},
     "execution_count": 3
    }
   ],
   "source": [
    "results = dynamodb.scan(TableName=table_name, Limit=3)\n",
    "results"
   ]
  },
  {
   "cell_type": "code",
   "execution_count": 4,
   "metadata": {},
   "outputs": [
    {
     "output_type": "execute_result",
     "data": {
      "text/plain": "{'vatID': {'S': '15198982963524164884'},\n 'total sulfur dioxide': {'S': '114.0'},\n 'fixed acidity': {'S': '6.0'},\n 'free sulfur dioxide': {'S': '30.0'},\n 'citric acid': {'S': '0.25'},\n 'residual sugar': {'S': '1.4'},\n 'density': {'S': '0.9879399999999999'},\n 'chlorides': {'S': '0.033'},\n 'quality': {'S': '6'},\n 'sulphates': {'S': '0.43'},\n 'pH': {'S': '3.08'},\n 'alcohol': {'S': '13.2'},\n 'volatile acidity': {'S': '0.29'}}"
     },
     "metadata": {},
     "execution_count": 4
    }
   ],
   "source": [
    "results[\"Items\"][0]\n",
    ""
   ]
  },
  {
   "cell_type": "markdown",
   "metadata": {},
   "source": [
    "You can see the wine data in this row. The primary key is called the `vatID` and is unique to each entry. It is just a row number that's been hashed using Pandas's `hash_array` function.\n",
    "\n",
    "Each key has an associated object which specified the data type (in this case they are all strings `S`) and the value of that entry."
   ],
   "execution_count": null,
   "outputs": []
  },
  {
   "cell_type": "code",
   "execution_count": null,
   "metadata": {},
   "outputs": [],
   "source": []
  }
 ]
}