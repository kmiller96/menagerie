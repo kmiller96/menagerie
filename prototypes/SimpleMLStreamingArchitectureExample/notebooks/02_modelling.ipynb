{
 "cells": [
  {
   "cell_type": "markdown",
   "metadata": {},
   "source": [
    "# Modelling"
   ]
  },
  {
   "cell_type": "code",
   "execution_count": 1,
   "metadata": {},
   "outputs": [],
   "source": [
    "import warnings\n",
    "warnings.filterwarnings(\"ignore\")\n",
    "\n",
    "from tqdm import tqdm"
   ]
  },
  {
   "cell_type": "code",
   "execution_count": 2,
   "metadata": {},
   "outputs": [],
   "source": [
    "import pandas as pd\n",
    "df = pd.read_csv('../data/wine_data.csv', sep=';')"
   ]
  },
  {
   "cell_type": "code",
   "execution_count": 3,
   "metadata": {},
   "outputs": [
    {
     "data": {
      "text/html": [
       "<div>\n",
       "<style scoped>\n",
       "    .dataframe tbody tr th:only-of-type {\n",
       "        vertical-align: middle;\n",
       "    }\n",
       "\n",
       "    .dataframe tbody tr th {\n",
       "        vertical-align: top;\n",
       "    }\n",
       "\n",
       "    .dataframe thead th {\n",
       "        text-align: right;\n",
       "    }\n",
       "</style>\n",
       "<table border=\"1\" class=\"dataframe\">\n",
       "  <thead>\n",
       "    <tr style=\"text-align: right;\">\n",
       "      <th></th>\n",
       "      <th>fixed acidity</th>\n",
       "      <th>volatile acidity</th>\n",
       "      <th>citric acid</th>\n",
       "      <th>residual sugar</th>\n",
       "      <th>chlorides</th>\n",
       "      <th>free sulfur dioxide</th>\n",
       "      <th>total sulfur dioxide</th>\n",
       "      <th>density</th>\n",
       "      <th>pH</th>\n",
       "      <th>sulphates</th>\n",
       "      <th>alcohol</th>\n",
       "      <th>quality</th>\n",
       "    </tr>\n",
       "  </thead>\n",
       "  <tbody>\n",
       "    <tr>\n",
       "      <th>0</th>\n",
       "      <td>7.0</td>\n",
       "      <td>0.27</td>\n",
       "      <td>0.36</td>\n",
       "      <td>20.7</td>\n",
       "      <td>0.045</td>\n",
       "      <td>45.0</td>\n",
       "      <td>170.0</td>\n",
       "      <td>1.0010</td>\n",
       "      <td>3.00</td>\n",
       "      <td>0.45</td>\n",
       "      <td>8.8</td>\n",
       "      <td>6</td>\n",
       "    </tr>\n",
       "    <tr>\n",
       "      <th>1</th>\n",
       "      <td>6.3</td>\n",
       "      <td>0.30</td>\n",
       "      <td>0.34</td>\n",
       "      <td>1.6</td>\n",
       "      <td>0.049</td>\n",
       "      <td>14.0</td>\n",
       "      <td>132.0</td>\n",
       "      <td>0.9940</td>\n",
       "      <td>3.30</td>\n",
       "      <td>0.49</td>\n",
       "      <td>9.5</td>\n",
       "      <td>6</td>\n",
       "    </tr>\n",
       "    <tr>\n",
       "      <th>2</th>\n",
       "      <td>8.1</td>\n",
       "      <td>0.28</td>\n",
       "      <td>0.40</td>\n",
       "      <td>6.9</td>\n",
       "      <td>0.050</td>\n",
       "      <td>30.0</td>\n",
       "      <td>97.0</td>\n",
       "      <td>0.9951</td>\n",
       "      <td>3.26</td>\n",
       "      <td>0.44</td>\n",
       "      <td>10.1</td>\n",
       "      <td>6</td>\n",
       "    </tr>\n",
       "    <tr>\n",
       "      <th>3</th>\n",
       "      <td>7.2</td>\n",
       "      <td>0.23</td>\n",
       "      <td>0.32</td>\n",
       "      <td>8.5</td>\n",
       "      <td>0.058</td>\n",
       "      <td>47.0</td>\n",
       "      <td>186.0</td>\n",
       "      <td>0.9956</td>\n",
       "      <td>3.19</td>\n",
       "      <td>0.40</td>\n",
       "      <td>9.9</td>\n",
       "      <td>6</td>\n",
       "    </tr>\n",
       "    <tr>\n",
       "      <th>4</th>\n",
       "      <td>7.2</td>\n",
       "      <td>0.23</td>\n",
       "      <td>0.32</td>\n",
       "      <td>8.5</td>\n",
       "      <td>0.058</td>\n",
       "      <td>47.0</td>\n",
       "      <td>186.0</td>\n",
       "      <td>0.9956</td>\n",
       "      <td>3.19</td>\n",
       "      <td>0.40</td>\n",
       "      <td>9.9</td>\n",
       "      <td>6</td>\n",
       "    </tr>\n",
       "  </tbody>\n",
       "</table>\n",
       "</div>"
      ],
      "text/plain": [
       "   fixed acidity  volatile acidity  citric acid  residual sugar  chlorides  \\\n",
       "0            7.0              0.27         0.36            20.7      0.045   \n",
       "1            6.3              0.30         0.34             1.6      0.049   \n",
       "2            8.1              0.28         0.40             6.9      0.050   \n",
       "3            7.2              0.23         0.32             8.5      0.058   \n",
       "4            7.2              0.23         0.32             8.5      0.058   \n",
       "\n",
       "   free sulfur dioxide  total sulfur dioxide  density    pH  sulphates  \\\n",
       "0                 45.0                 170.0   1.0010  3.00       0.45   \n",
       "1                 14.0                 132.0   0.9940  3.30       0.49   \n",
       "2                 30.0                  97.0   0.9951  3.26       0.44   \n",
       "3                 47.0                 186.0   0.9956  3.19       0.40   \n",
       "4                 47.0                 186.0   0.9956  3.19       0.40   \n",
       "\n",
       "   alcohol  quality  \n",
       "0      8.8        6  \n",
       "1      9.5        6  \n",
       "2     10.1        6  \n",
       "3      9.9        6  \n",
       "4      9.9        6  "
      ]
     },
     "execution_count": 3,
     "metadata": {},
     "output_type": "execute_result"
    }
   ],
   "source": [
    "df.head()"
   ]
  },
  {
   "cell_type": "code",
   "execution_count": 4,
   "metadata": {},
   "outputs": [],
   "source": [
    "X, y = df.drop('quality', axis=1), df.quality"
   ]
  },
  {
   "cell_type": "markdown",
   "metadata": {},
   "source": [
    "Prior to any modelling, we need to pick a way of evaluating its performance. Because the model will be used in a pricing model, it is very important that the prediction is as close as possible to reality. We don't mind if the predictions are above or below in quality predictions: only how accurate they are. I've decided the the Mean Absolute Error and Root-Mean Square Error are the best measures of this.\n",
    "\n",
    "Naturally, with these metrics decided upon, will build a regression model over a classification model since it better fits in with the evaluation metrics that we've set. I'll also capture $R^2$ score as it is a handy measure for regression models.\n",
    "\n",
    "We will compare our model's performance against the naive model of the mode of the population."
   ]
  },
  {
   "cell_type": "code",
   "execution_count": 5,
   "metadata": {},
   "outputs": [],
   "source": [
    "from sklearn.dummy import DummyRegressor\n",
    "from sklearn.metrics import mean_absolute_error, mean_squared_error, r2_score\n",
    "from sklearn.model_selection import KFold\n",
    "\n",
    "def root_mean_squared_error(*args, **kwargs):\n",
    "    return mean_squared_error(*args, **kwargs)**0.5"
   ]
  },
  {
   "cell_type": "code",
   "execution_count": 6,
   "metadata": {},
   "outputs": [
    {
     "name": "stdout",
     "output_type": "stream",
     "text": [
      "BASELINE AVERAGE MAE: 0.6709238413126002\n",
      "BASELINE AVERAGE RMSE: 0.8854708703830904\n",
      "BASELINE AVERAGE R2: -0.002245018955469291\n"
     ]
    }
   ],
   "source": [
    "results = []\n",
    "kf = KFold(n_splits=10, shuffle=True)\n",
    "for train_index, test_index in kf.split(X, y):\n",
    "    X_train, y_train = X.iloc[train_index], y.iloc[train_index]\n",
    "    X_test, y_test = X.iloc[test_index], y.iloc[test_index]\n",
    "    \n",
    "    model = DummyRegressor()\n",
    "    model = model.fit(X_train, y_train) \n",
    "    y_hat = model.predict(X_test)\n",
    "    \n",
    "    results_dict = {\n",
    "        'mae': mean_absolute_error(y_test, y_hat),\n",
    "        'rmse': root_mean_squared_error(y_test, y_hat),\n",
    "        'r2': r2_score(y_test, y_hat)\n",
    "    }\n",
    "    results.append(results_dict)\n",
    "print(\"BASELINE AVERAGE MAE:\", sum([fold['mae'] for fold in results]) / len(results))\n",
    "print(\"BASELINE AVERAGE RMSE:\", sum([fold['rmse'] for fold in results]) / len(results))\n",
    "print(\"BASELINE AVERAGE R2:\", sum([fold['r2'] for fold in results]) / len(results))"
   ]
  },
  {
   "cell_type": "markdown",
   "metadata": {},
   "source": [
    "## Model Selection "
   ]
  },
  {
   "cell_type": "markdown",
   "metadata": {},
   "source": [
    "### Model 1: XGBoost without Feature Engineering"
   ]
  },
  {
   "cell_type": "markdown",
   "metadata": {},
   "source": [
    "The first improvement to make would be to train an XGBoost model without adding any feature engineering."
   ]
  },
  {
   "cell_type": "code",
   "execution_count": 7,
   "metadata": {},
   "outputs": [
    {
     "name": "stderr",
     "output_type": "stream",
     "text": [
      "100%|██████████| 10/10 [00:01<00:00,  8.04it/s]"
     ]
    },
    {
     "name": "stdout",
     "output_type": "stream",
     "text": [
      "XGB AVERAGE MAE: 0.5378408079048633\n",
      "XGB AVERAGE RMSE: 0.6885689037339439\n",
      "XGB AVERAGE R2: 0.39334743110494486\n"
     ]
    },
    {
     "name": "stderr",
     "output_type": "stream",
     "text": [
      "\n"
     ]
    }
   ],
   "source": [
    "import xgboost\n",
    "N_SPLITS = 10\n",
    "\n",
    "results = []\n",
    "kf = KFold(n_splits=N_SPLITS, shuffle=True)\n",
    "with tqdm(total=N_SPLITS) as pbar:\n",
    "    for train_index, test_index in kf.split(X, y):\n",
    "        X_train, y_train = X.iloc[train_index], y.iloc[train_index]\n",
    "        X_test, y_test = X.iloc[test_index], y.iloc[test_index]\n",
    "\n",
    "        model = xgboost.XGBRegressor(objective ='reg:squarederror')\n",
    "        model = model.fit(X_train, y_train) \n",
    "        y_hat = model.predict(X_test)\n",
    "\n",
    "        results_dict = {\n",
    "            'mae': mean_absolute_error(y_test, y_hat),\n",
    "            'rmse': root_mean_squared_error(y_test, y_hat),\n",
    "            'r2': r2_score(y_test, y_hat),\n",
    "        }\n",
    "        results.append(results_dict)\n",
    "        pbar.update(1)\n",
    "print(\"XGB AVERAGE MAE:\", sum([fold['mae'] for fold in results]) / len(results))\n",
    "print(\"XGB AVERAGE RMSE:\", sum([fold['rmse'] for fold in results]) / len(results))\n",
    "print(\"XGB AVERAGE R2:\", sum([fold['r2'] for fold in results]) / len(results))"
   ]
  },
  {
   "cell_type": "markdown",
   "metadata": {},
   "source": [
    "Already we have an improvement without any hyperparameter tuning! That's a promising sign. It looks as if we are getting a weak predictor of the quality of the wine. On average, our predictions are approximately half a point away from reality.\n",
    "\n",
    "Let's look at the distributions of the real and test data on the last fold to get an understanding of this behaviour."
   ]
  },
  {
   "cell_type": "code",
   "execution_count": 8,
   "metadata": {},
   "outputs": [
    {
     "data": {
      "image/png": "[encoded data removed]",
      "text/plain": [
       "<Figure size 1152x576 with 1 Axes>"
      ]
     },
     "metadata": {
      "needs_background": "light"
     },
     "output_type": "display_data"
    }
   ],
   "source": [
    "import matplotlib.pyplot as plt\n",
    "import seaborn as sns\n",
    "f, ax = plt.subplots(figsize=(16, 8))\n",
    "\n",
    "actual = sns.kdeplot(y_test, label='actual', ax=ax, bw=0.1)\n",
    "predicted = sns.kdeplot(y_hat, label='predicted', ax=ax, color='orange', bw=0.1)"
   ]
  },
  {
   "cell_type": "code",
   "execution_count": 9,
   "metadata": {},
   "outputs": [
    {
     "data": {
      "image/png": "[encoded data removed]",
      "text/plain": [
       "<Figure size 1152x576 with 1 Axes>"
      ]
     },
     "metadata": {
      "needs_background": "light"
     },
     "output_type": "display_data"
    }
   ],
   "source": [
    "f, ax = plt.subplots(figsize=(16, 8))\n",
    "\n",
    "actual = sns.kdeplot(y_test, label='actual', ax=ax, bw=0.1)\n",
    "predicted = sns.kdeplot([round(x) for x in y_hat], label='predicted', ax=ax, color='orange', bw=0.1)"
   ]
  },
  {
   "cell_type": "markdown",
   "metadata": {},
   "source": [
    "We can tell that the model doesn't like predicting values at the extremes. This is likely a result of a class inbalance that we saw in the EDA."
   ]
  },
  {
   "cell_type": "markdown",
   "metadata": {},
   "source": [
    "### Model 2: XGBoost with Undersampling"
   ]
  },
  {
   "cell_type": "markdown",
   "metadata": {},
   "source": [
    "It looks that there is a strong inbalance between the different quality scores. To improve the model's performance at the extreme scores, let's investigate undersampling the predicted scores.\n",
    "\n",
    "There are no objects in Scikit learn which handle undersampling for us so we will have to do it ourselves. We will stick with random undersampling for the moment - we can investigate more complex solutions in the future."
   ]
  },
  {
   "cell_type": "code",
   "execution_count": 10,
   "metadata": {},
   "outputs": [],
   "source": [
    "def undersample(dataframe, target_column, alpha=1.0):\n",
    "    \"\"\"Undersamples a dataframe.\n",
    "    \n",
    "    Args:\n",
    "        df (pd.Dataframe): Original dataframe with unbalanced classes.\n",
    "        target (str): The column that references the target in df.\n",
    "        alpha (float): The \"agressiveness\" of the undersampling. Expresses the \n",
    "            amount to correct the classes by. Defaults to 1.0.\n",
    "            \n",
    "    Returns:\n",
    "        (pd.Dataframe): A randomly undersampled dataframe.\n",
    "    \"\"\"\n",
    "    ## Determine the sampling rates ##\n",
    "    class_counts = dataframe[target_column].value_counts()\n",
    "    smallest_count = class_counts.min()\n",
    "    raw_sample_diffs = class_counts - smallest_count\n",
    "    adjusted_sample_diffs = (raw_sample_diffs * alpha).astype(int)\n",
    "    target_sample_rates = class_counts - adjusted_sample_diffs\n",
    "    \n",
    "    ## Randomly sample those amounts from the dataframe\n",
    "    dfs = []\n",
    "    for target, n_sample in target_sample_rates.iteritems():\n",
    "        dfs.append(\n",
    "            dataframe[dataframe[target_column] == target]\n",
    "            .sample(n=n_sample)\n",
    "        )\n",
    "    \n",
    "    ## Concatenate those sampled dataframes together ##\n",
    "    dff = (\n",
    "        pd.concat(dfs)\n",
    "        .sample(frac=1.0)\n",
    "        .reset_index(drop=True)\n",
    "    )\n",
    "    return dff"
   ]
  },
  {
   "cell_type": "code",
   "execution_count": 11,
   "metadata": {},
   "outputs": [
    {
     "name": "stdout",
     "output_type": "stream",
     "text": [
      "(4898, 12)\n",
      "(2468, 12)\n"
     ]
    }
   ],
   "source": [
    "dff = undersample(df, target_column='quality', alpha=0.5)\n",
    "print(df.shape)\n",
    "print(dff.shape)"
   ]
  },
  {
   "cell_type": "markdown",
   "metadata": {},
   "source": [
    "Let's now try this technique on the model and see if the performance improves."
   ]
  },
  {
   "cell_type": "code",
   "execution_count": 12,
   "metadata": {},
   "outputs": [
    {
     "name": "stdout",
     "output_type": "stream",
     "text": [
      "== ALPHA: 0.0 ==\n",
      "XGB AVERAGE MAE: 0.5377292790612307\n",
      "XGB AVERAGE RMSE: 0.687521041682331\n",
      "XGB AVERAGE R2: 0.3952963968471593\n",
      "\n",
      "== ALPHA: 0.1 ==\n",
      "XGB AVERAGE MAE: 0.5386669181600491\n",
      "XGB AVERAGE RMSE: 0.6915083274317195\n",
      "XGB AVERAGE R2: 0.39029390571395967\n",
      "\n",
      "== ALPHA: 0.2 ==\n",
      "XGB AVERAGE MAE: 0.5437102892629492\n",
      "XGB AVERAGE RMSE: 0.6953260778531579\n",
      "XGB AVERAGE R2: 0.38481488134347036\n",
      "\n",
      "== ALPHA: 0.5 ==\n",
      "XGB AVERAGE MAE: 0.5471960310625051\n",
      "XGB AVERAGE RMSE: 0.7048138743559821\n",
      "XGB AVERAGE R2: 0.38008668391307043\n",
      "\n",
      "== ALPHA: 0.7 ==\n",
      "XGB AVERAGE MAE: 0.5632738395089272\n",
      "XGB AVERAGE RMSE: 0.7293462535764819\n",
      "XGB AVERAGE R2: 0.36476682603007593\n",
      "\n",
      "== ALPHA: 0.9 ==\n",
      "XGB AVERAGE MAE: 0.6384974620857847\n",
      "XGB AVERAGE RMSE: 0.8343353594138403\n",
      "XGB AVERAGE R2: 0.24826002837140898\n",
      "\n",
      "== ALPHA: 1.0 ==\n",
      "XGB AVERAGE MAE: 1.1352001865704855\n",
      "XGB AVERAGE RMSE: 1.3948682877547487\n",
      "XGB AVERAGE R2: 0.28448402549324214\n",
      "\n"
     ]
    }
   ],
   "source": [
    "N_SPLITS = 10\n",
    "\n",
    "for alpha in [0.0, 0.1, 0.2, 0.5, 0.7, 0.9, 1.0]:\n",
    "    dff = undersample(df, target_column='quality', alpha=alpha)\n",
    "    X, y = dff.drop('quality', axis=1), dff.quality\n",
    "\n",
    "    results = []\n",
    "    kf = KFold(n_splits=N_SPLITS, shuffle=True)\n",
    "    for train_index, test_index in kf.split(X, y):\n",
    "        X_train, y_train = X.iloc[train_index], y.iloc[train_index]\n",
    "        X_test, y_test = X.iloc[test_index], y.iloc[test_index]\n",
    "\n",
    "        model = xgboost.XGBRegressor(objective ='reg:squarederror')\n",
    "        model = model.fit(X_train, y_train) \n",
    "        y_hat = model.predict(X_test)\n",
    "\n",
    "        results_dict = {\n",
    "            'mae': mean_absolute_error(y_test, y_hat),\n",
    "            'rmse': root_mean_squared_error(y_test, y_hat),\n",
    "            'r2': r2_score(y_test, y_hat),\n",
    "        }\n",
    "        results.append(results_dict)\n",
    "    print(f\"== ALPHA: {alpha} ==\")\n",
    "    print(\"XGB AVERAGE MAE:\", sum([fold['mae'] for fold in results]) / len(results))\n",
    "    print(\"XGB AVERAGE RMSE:\", sum([fold['rmse'] for fold in results]) / len(results))\n",
    "    print(\"XGB AVERAGE R2:\", sum([fold['r2'] for fold in results]) / len(results))\n",
    "    print()"
   ]
  },
  {
   "cell_type": "markdown",
   "metadata": {},
   "source": [
    "The random undersampling appears to have actually worsened the model based off the metrics we are using to evaluate the model. "
   ]
  },
  {
   "cell_type": "markdown",
   "metadata": {},
   "source": [
    "## Feature Engineering"
   ]
  },
  {
   "cell_type": "markdown",
   "metadata": {},
   "source": [
    "This section is a work in progress. We will investigate model improvement due to feature engineering after the first version of the final system."
   ]
  }
 ],
 "metadata": {
  "kernelspec": {
   "display_name": "Python 3",
   "language": "python",
   "name": "python3"
  },
  "language_info": {
   "codemirror_mode": {
    "name": "ipython",
    "version": 3
   },
   "file_extension": ".py",
   "mimetype": "text/x-python",
   "name": "python",
   "nbconvert_exporter": "python",
   "pygments_lexer": "ipython3",
   "version": "3.7.4"
  }
 },
 "nbformat": 4,
 "nbformat_minor": 4
}
